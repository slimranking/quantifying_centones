{
 "cells": [
  {
   "cell_type": "markdown",
   "metadata": {},
   "source": [
    "## Quantifying Centone Content in Arab Andalusian Music using TF-IDF\n",
    "March - 2019"
   ]
  },
  {
   "cell_type": "code",
   "execution_count": 1,
   "metadata": {},
   "outputs": [],
   "source": [
    "%load_ext autoreload\n",
    "\n",
    "%autoreload 2"
   ]
  },
  {
   "cell_type": "code",
   "execution_count": 2,
   "metadata": {},
   "outputs": [],
   "source": [
    "import sys\n",
    "sys.path.append('../src/')\n",
    "\n",
    "import extraction\n",
    "import model\n",
    "import persistence\n",
    "import reporting"
   ]
  },
  {
   "cell_type": "code",
   "execution_count": 3,
   "metadata": {},
   "outputs": [],
   "source": [
    "from collections import Counter\n",
    "import os\n",
    "import pandas as pd\n",
    "import numpy as np\n",
    "import matplotlib.pyplot as plt"
   ]
  },
  {
   "cell_type": "markdown",
   "metadata": {},
   "source": [
    "### Load"
   ]
  },
  {
   "cell_type": "markdown",
   "metadata": {},
   "source": [
    "Load mappings Nawba mappings and recording metadata"
   ]
  },
  {
   "cell_type": "code",
   "execution_count": 4,
   "metadata": {},
   "outputs": [],
   "source": [
    "data_path = '../data/'"
   ]
  },
  {
   "cell_type": "code",
   "execution_count": 5,
   "metadata": {
    "scrolled": false
   },
   "outputs": [],
   "source": [
    "# Nawba Mappings to centones\n",
    "nawba_centones = persistence.load_and_parse_centones_mapping(os.path.join(data_path, 'Centones_Nawba.csv'))\n",
    "# Nawba Mappings to tabs\n",
    "nawba_tabs = persistence.load_and_parse_nawba_tabs(os.path.join(data_path, 'nawba_tabs.json'))\n",
    "\n",
    "# Recording Descriptions\n",
    "andalusian_description =  pd.read_json(os.path.join(data_path, 'andalusian_description.json'))"
   ]
  },
  {
   "cell_type": "markdown",
   "metadata": {},
   "source": [
    "### Download"
   ]
  },
  {
   "cell_type": "markdown",
   "metadata": {},
   "source": [
    "Download all scores from dunya"
   ]
  },
  {
   "cell_type": "code",
   "execution_count": 6,
   "metadata": {},
   "outputs": [],
   "source": [
    "dunya_token = 'b6091182-8877-4918-b637-77987c4a1034'\n",
    "scores_path = os.path.join(data_path, 'scores/')"
   ]
  },
  {
   "cell_type": "code",
   "execution_count": 7,
   "metadata": {},
   "outputs": [],
   "source": [
    "scores = persistence.download_scores(andalusian_description, dunya_token, target_folder=scores_path)"
   ]
  },
  {
   "cell_type": "code",
   "execution_count": null,
   "metadata": {},
   "outputs": [],
   "source": [
    "# Replace tab with nawba\n",
    "# (mbid, nawba)\n",
    "mbid_nawba = [[x[0], nawba_tabs[x[1]]] for x in scores if x[1] in nawba_tabs]\n",
    "\n",
    "# Nawba mbid lookup\n",
    "nawba_mbid_lookup = {x[0]:x[1] for x in mbid_nawba}"
   ]
  },
  {
   "cell_type": "markdown",
   "metadata": {},
   "source": [
    "### Pattern Extraction"
   ]
  },
  {
   "cell_type": "markdown",
   "metadata": {},
   "source": [
    "Load all scores into a stream of notes"
   ]
  },
  {
   "cell_type": "code",
   "execution_count": null,
   "metadata": {
    "scrolled": false
   },
   "outputs": [],
   "source": [
    "notes_dict = {}\n",
    "chord_mbid = []\n",
    "\n",
    "for i,(mbid, nawba) in enumerate(mbid_nawba):\n",
    "    this_score_path = os.path.join(scores_path, mbid + '.xml')\n",
    "    # Fails for scores with chords\n",
    "    try:\n",
    "        note_stream = persistence.pattern_stream_from_score(this_score_path, 4)\n",
    "        notes_dict[mbid] = note_stream\n",
    "    except Exception as e:\n",
    "        print('{} contains chords and wont be counted'.format(mbid))\n",
    "        chord_mbid.append(mbid)\n",
    "\n",
    "final_scores = [x for x in scores if x[0] not in chord_mbid]\n",
    "\n",
    "notes_indices = notes_dict.keys()\n",
    "notes = notes_dict.values()"
   ]
  },
  {
   "cell_type": "markdown",
   "metadata": {},
   "source": [
    "Extract bag of patterns from each score"
   ]
  },
  {
   "cell_type": "code",
   "execution_count": null,
   "metadata": {},
   "outputs": [],
   "source": [
    "mbid_patterns = [extraction.extract_pattern_grams(nt, min_n=3, max_n=10) for nt in notes]"
   ]
  },
  {
   "cell_type": "code",
   "execution_count": null,
   "metadata": {},
   "outputs": [],
   "source": [
    "# Convert indices from mbid to Nawba\n",
    "full_nawba_indices = [nawba_mbid_lookup[x] for x in notes_indices]"
   ]
  },
  {
   "cell_type": "code",
   "execution_count": null,
   "metadata": {},
   "outputs": [],
   "source": [
    "# Counts of number off scores in each nawba for plotting later\n",
    "nawba_scores = Counter(full_nawba_indices)"
   ]
  },
  {
   "cell_type": "markdown",
   "metadata": {},
   "source": [
    "### TFIDF"
   ]
  },
  {
   "cell_type": "markdown",
   "metadata": {},
   "source": [
    "Apply TF-IDF on corpus of bag of patterns"
   ]
  },
  {
   "cell_type": "code",
   "execution_count": null,
   "metadata": {},
   "outputs": [],
   "source": [
    "distributions = model.get_tfidf_distributions(mbid_patterns)"
   ]
  },
  {
   "cell_type": "markdown",
   "metadata": {},
   "source": [
    "Average tf-idf for each pattern for each Nawba"
   ]
  },
  {
   "cell_type": "code",
   "execution_count": null,
   "metadata": {},
   "outputs": [],
   "source": [
    "frame_grouped = model.average_tfidf(distributions, full_nawba_indices)"
   ]
  },
  {
   "cell_type": "code",
   "execution_count": null,
   "metadata": {},
   "outputs": [],
   "source": [
    "frame_grouped[:5]"
   ]
  },
  {
   "cell_type": "markdown",
   "metadata": {},
   "source": [
    "### Results"
   ]
  },
  {
   "cell_type": "markdown",
   "metadata": {},
   "source": [
    "Plot analysis results"
   ]
  },
  {
   "cell_type": "code",
   "execution_count": null,
   "metadata": {},
   "outputs": [],
   "source": [
    "# Initialise Nawba number to plot\n",
    "i = 1"
   ]
  },
  {
   "cell_type": "markdown",
   "metadata": {},
   "source": [
    "Repeatedly run these cells to iterate through all Nawbas"
   ]
  },
  {
   "cell_type": "code",
   "execution_count": null,
   "metadata": {
    "scrolled": false
   },
   "outputs": [],
   "source": [
    "nawba = 'Nawba_{}'.format(i)\n",
    "reporting.get_amins_plot(frame_grouped, nawba, nawba_centones)\n",
    "i += 1\n",
    "if i > len(set(nawba_centones.keys())):\n",
    "    i = 1"
   ]
  },
  {
   "cell_type": "code",
   "execution_count": null,
   "metadata": {
    "scrolled": false
   },
   "outputs": [],
   "source": [
    "# Bars marked green match amins centones\n",
    "# Bars marked red are supersets of amins centones\n",
    "# Bars marked blues are un defined centones\n",
    "nawba = 'Nawba_{}'.format(11)\n",
    "reporting.get_top_centones_plot(frame_grouped, nawba, nawba_centones, nawba_scores[nawba], n=13, min_freq=50)\n",
    "#i += 1\n",
    "#if i > len(set(nawba_centones.keys())):\n",
    "#    i = 1"
   ]
  }
 ],
 "metadata": {
  "kernelspec": {
   "display_name": "Python 3",
   "language": "python",
   "name": "python3"
  },
  "language_info": {
   "codemirror_mode": {
    "name": "ipython",
    "version": 3
   },
   "file_extension": ".py",
   "mimetype": "text/x-python",
   "name": "python",
   "nbconvert_exporter": "python",
   "pygments_lexer": "ipython3",
   "version": "3.5.1"
  }
 },
 "nbformat": 4,
 "nbformat_minor": 2
}
