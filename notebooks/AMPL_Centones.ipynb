{
 "cells": [
  {
   "cell_type": "markdown",
   "metadata": {},
   "source": [
    "# Composition based on Centones in Arab-Andalusian Music\n",
    "\n",
    "Notebook that looks for characteristic centones of the 26 tubu's of the Arab Andalusian Music in a score. Then, show the results to link the number of found centones with the correspondance main tab' of the score."
   ]
  },
  {
   "cell_type": "code",
   "execution_count": 1,
   "metadata": {},
   "outputs": [],
   "source": [
    "%load_ext autoreload\n",
    "\n",
    "%autoreload 2"
   ]
  },
  {
   "cell_type": "code",
   "execution_count": 1,
   "metadata": {},
   "outputs": [],
   "source": [
    "from music21 import *\n",
    "from compmusic import dunya\n",
    "import os\n",
    "import re\n",
    "import copy\n",
    "import csv\n",
    "import json\n",
    "import pandas as pd\n",
    "from pathlib import Path\n",
    "from operator import itemgetter\n",
    "from collections import Counter\n",
    "from tqdm import tqdm\n",
    "import matplotlib.pyplot as plt\n",
    "import numpy as np\n",
    "from sklearn.metrics import confusion_matrix\n",
    "from sklearn.utils.multiclass import unique_labels\n",
    "dunya.set_token('52fc6ac49c0b7fc9644404aaf4f9bc1a7088d69d')\n",
    "\n",
    "apipath = 'api/andalusian/recording/'"
   ]
  },
  {
   "cell_type": "code",
   "execution_count": 51,
   "metadata": {},
   "outputs": [],
   "source": [
    "import sys\n",
    "sys.path.append('../src/')\n",
    "\n",
    "import extraction\n",
    "import model\n",
    "import persistence\n",
    "import reporting"
   ]
  },
  {
   "cell_type": "markdown",
   "metadata": {},
   "source": [
    "## Step 1: Load CSV\n",
    "Download the metadata and the score of each recording, to have the .musicxml file and the annotated tab'."
   ]
  },
  {
   "cell_type": "code",
   "execution_count": 2,
   "metadata": {},
   "outputs": [],
   "source": [
    "def load_and_parse_centones_mapping(mapping_path):\n",
    "    \"\"\"\n",
    "    Load csv of centone mapping to dict\n",
    "    \"\"\"\n",
    "    centones = pd.read_csv(mapping_path, header=None)\n",
    "    return {'Nawba_{}'.format(x[0]):[y.replace(' ','') for y in list(x[1:]) if str(y) != 'nan'] \\\n",
    "            for i, x in centones.iterrows()}"
   ]
  },
  {
   "cell_type": "code",
   "execution_count": 4,
   "metadata": {},
   "outputs": [],
   "source": [
    "# Nawba Mappings\n",
    "nawba_centones = load_and_parse_centones_mapping('../data/Centones_Nawba.csv')\n",
    "\n",
    "with open('../data/nawba_tabs.json', 'r') as fp:\n",
    "    nawba_tabs = json.load(fp)\n",
    "    \n",
    "tabs_nawba = {}\n",
    "for k,v in nawba_tabs.items():\n",
    "    for t in v:\n",
    "        tabs_nawba[t] = k\n",
    "        \n",
    "# Recording Description\n",
    "andalusian_description =  pd.read_json('../data/andalusian_description.json')"
   ]
  },
  {
   "cell_type": "markdown",
   "metadata": {},
   "source": [
    "# Step 2: Download scores"
   ]
  },
  {
   "cell_type": "code",
   "execution_count": 5,
   "metadata": {},
   "outputs": [],
   "source": [
    "scores = []\n",
    "for i, row in andalusian_description.iterrows():\n",
    "    try:\n",
    "        tn = row['sections'][0]['tab']['transliterated_name']\n",
    "    except:\n",
    "        tn = ''\n",
    "    scores.append([row['mbid'], tn])\n"
   ]
  },
  {
   "cell_type": "markdown",
   "metadata": {},
   "source": [
    "Download the required scores from Dunya through the cell below:"
   ]
  },
  {
   "cell_type": "code",
   "execution_count": 161,
   "metadata": {},
   "outputs": [],
   "source": [
    "if not os.isdir('Scores'):\n",
    "    os.mkdir('Scores')\n",
    "\n",
    "bad_mbid = []\n",
    "for s in scores: # Download scores from dunya through its mbid\n",
    "    mbid = s[0]\n",
    "    try:\n",
    "        score_xml = dunya.docserver.file_for_document(mbid, 'symbtrxml')\n",
    "        name = mbid + '.xml'\n",
    "        path = os.path.join('Scores', name)\n",
    "        open(path, \"wb\").write(score_xml)\n",
    "    except: \n",
    "        bad_mbid.append(mbid)\n",
    "\n",
    "scores = [x for x in scores if x[0] not in bad_mbid]"
   ]
  },
  {
   "cell_type": "code",
   "execution_count": 34,
   "metadata": {},
   "outputs": [],
   "source": [
    "# Replace tab with nawba\n",
    "scores_nawba = [[x[0], tabs_nawba[x[1]]] for x in scores if x[1] in tabs_nawba]\n",
    "\n",
    "# Lookup\n",
    "nawba_lookup = {x[0]:x[1] for x in scores_nawba}"
   ]
  },
  {
   "cell_type": "code",
   "execution_count": 52,
   "metadata": {},
   "outputs": [
    {
     "name": "stdout",
     "output_type": "stream",
     "text": [
      "2d8e2820-e4cf-4dc8-b4f1-45f8fb65de9e contains chords and wont be counted\n"
     ]
    }
   ],
   "source": [
    "notes_dict = {}\n",
    "chord_mbid = []\n",
    "\n",
    "for i,(mbid, nawba) in enumerate(scores_nawba):\n",
    "    this_score_path = os.path.join('../data/scores', mbid + '.xml')\n",
    "    # Fails for scores with chords\n",
    "    try:\n",
    "        note_stream = persistence.pattern_stream_from_score(this_score_path, 4)\n",
    "        notes_dict[mbid] = note_stream\n",
    "    except Exception as e:\n",
    "        print('{} contains chords and wont be counted'.format(mbid))\n",
    "        chord_mbid.append(mbid)\n",
    "\n",
    "final_scores = [x for x in scores_nawba if x[0] not in chord_mbid]"
   ]
  },
  {
   "cell_type": "code",
   "execution_count": 71,
   "metadata": {},
   "outputs": [
    {
     "data": {
      "text/plain": [
       "56"
      ]
     },
     "execution_count": 71,
     "metadata": {},
     "output_type": "execute_result"
    }
   ],
   "source": [
    "notes_name=[n for n in notes_dict['b6091182-8877-4918-b637-77987c4a1034']]\n",
    "notes_name = ''.join(notes_name)\n",
    "notes_name\n",
    "occurrences(notes_name,'GGF#')"
   ]
  },
  {
   "cell_type": "markdown",
   "metadata": {},
   "source": [
    "Load a csv file that contains all the characteristic centones for each tab' and the final centones for each tab and store it in a dictionary (data and data_final)"
   ]
  },
  {
   "cell_type": "markdown",
   "metadata": {},
   "source": [
    "## Step 2: Searching general centones\n",
    "For each score in the dataset, look for the characteristic centones of each tab' and store the results in a final dataframe. In this dataframe will be stored a coefficient and the name of the 10 most likely tubu's related with this coefficient. This coefficient is the normalization of the occurrances of the centones for each tab' in the recording. (Running next cell might can take around 10 minutes)"
   ]
  },
  {
   "cell_type": "code",
   "execution_count": 64,
   "metadata": {},
   "outputs": [
    {
     "name": "stderr",
     "output_type": "stream",
     "text": [
      "\n",
      "\n",
      "\n",
      "  0%|          | 0/149 [00:00<?, ?it/s]\u001b[A\u001b[A\u001b[A\n",
      "\n",
      "\n",
      " 17%|█▋        | 26/149 [00:00<00:00, 255.79it/s]\u001b[A\u001b[A\u001b[A\n",
      "\n",
      "\n",
      " 41%|████      | 61/149 [00:00<00:00, 277.41it/s]\u001b[A\u001b[A\u001b[A\n",
      "\n",
      "\n",
      " 59%|█████▉    | 88/149 [00:00<00:00, 273.06it/s]\u001b[A\u001b[A\u001b[A\n",
      "\n",
      "\n",
      " 74%|███████▍  | 110/149 [00:00<00:00, 253.40it/s]\u001b[A\u001b[A\u001b[A\n",
      "\n",
      "\n",
      " 89%|████████▉ | 133/149 [00:00<00:00, 242.54it/s]\u001b[A\u001b[A\u001b[A\n",
      "\n",
      "\n",
      "100%|██████████| 149/149 [00:00<00:00, 261.45it/s]\u001b[A\u001b[A\u001b[A"
     ]
    }
   ],
   "source": [
    "def count_letters(x): # This function will be used to count the length of each centon.\n",
    "        counter = 0\n",
    "        for let in x:\n",
    "            if let!='-' and let!='#':\n",
    "                counter+=1\n",
    "        return counter\n",
    "def occurrences(string, sub):\n",
    "    count = start = 0\n",
    "    while True:\n",
    "        start = string.find(sub, start) + 1\n",
    "        if start > 0:\n",
    "            count+=1\n",
    "        else:\n",
    "            return count\n",
    "        \n",
    "def count_centones(mbid,notes_dict,nawba_centones):\n",
    "    notes_name=[n for n in notes_dict[mbid]]\n",
    "    notes_name = ''.join(notes_name)\n",
    "    # Count centones:\n",
    "    nawba_and_ncentones = []\n",
    "    for d in nawba_centones: # For each tab' we count the number of centones\n",
    "        ncentones = []\n",
    "        for centon in nawba_centones[d]: # count the number of apperances of every centon in the set of centones of the tab'\n",
    "            numbercentones = occurrences(notes_name, centon)\n",
    "            ncentones.append(numbercentones) # Acumulate the number of every kind of centones in a list\n",
    "        nawba_and_ncentones.append([d, sum(ncentones)]) # Store in a list of tuples [(name of tab', appearances of characteristics centones)]\n",
    "\n",
    "    nawba_and_ncentones = [[x[0],x[1]/len(nawba_centones[x[0]])] for x in nawba_and_ncentones]\n",
    "    predicted = [x[0] for x in sorted(nawba_and_ncentones, key=lambda y: -y[1])]\n",
    "    return predicted\n",
    "    \n",
    "\n",
    "df = []\n",
    "number_centones_nawba={}\n",
    "mbids_final=[x[0] for x in final_scores]\n",
    "for mbid in tqdm(mbids_final):\n",
    "    path = '../data/scores'\n",
    "    fileName = mbid + '.xml'\n",
    "    fn = os.path.join(path, fileName)\n",
    "    fn = Path(fn)\n",
    "    nawba = nawba_lookup[mbid]\n",
    "    predicted_nawba = count_centones(notes_dict,mbid)\n",
    "    df.append({'Mbid':mbid, 'Annotated_tab': nawba,'1 tab': predicted_nawba})"
   ]
  },
  {
   "cell_type": "code",
   "execution_count": 75,
   "metadata": {},
   "outputs": [
    {
     "data": {
      "text/plain": [
       "{'Nawba_1': ['B-AG',\n",
       "  'EFG',\n",
       "  'FAG',\n",
       "  'AGF',\n",
       "  'CDEF',\n",
       "  'FEDC',\n",
       "  'BCE',\n",
       "  'FED',\n",
       "  'GFED',\n",
       "  'FDECD',\n",
       "  'FAG',\n",
       "  'EFG',\n",
       "  'CBAG',\n",
       "  'GAF',\n",
       "  'AGF',\n",
       "  'DEF',\n",
       "  'FGA',\n",
       "  'BCA',\n",
       "  'BGA',\n",
       "  'FEDC',\n",
       "  'FED',\n",
       "  'FDECD',\n",
       "  'EFG',\n",
       "  'CBAG',\n",
       "  'FAG',\n",
       "  'CDEF',\n",
       "  'GFE',\n",
       "  'FEDC',\n",
       "  'FGA',\n",
       "  'CBA',\n",
       "  'DCB',\n",
       "  'FDECD',\n",
       "  'GFED',\n",
       "  'FGDBCD',\n",
       "  'FED',\n",
       "  'FEDC',\n",
       "  'FGA',\n",
       "  'CDEF',\n",
       "  'AGF'],\n",
       " 'Nawba_2': ['CBAG',\n",
       "  'EFG',\n",
       "  'GFE',\n",
       "  'BDC',\n",
       "  'FEDC',\n",
       "  'DCB',\n",
       "  'FED',\n",
       "  'BCD',\n",
       "  'CFED',\n",
       "  'FEFGDBCD',\n",
       "  'CBAG',\n",
       "  'GFE',\n",
       "  'BCD',\n",
       "  'CFED',\n",
       "  'BCD'],\n",
       " 'Nawba_3': ['B-AG', 'EFG', 'BDC', 'BC', 'EFGEFEDC', 'GFE'],\n",
       " 'Nawba_4': ['EFG',\n",
       "  'B-AG',\n",
       "  'BCD',\n",
       "  'GE',\n",
       "  'CDGFEDCDEC',\n",
       "  'CDEC',\n",
       "  'CDAGFEDC',\n",
       "  'CDCEDC',\n",
       "  'CAGC'],\n",
       " 'Nawba_5': ['GFE',\n",
       "  'EFG',\n",
       "  'FAG',\n",
       "  'GABCAG',\n",
       "  'ABC',\n",
       "  'FEDC',\n",
       "  'EDC',\n",
       "  'EFG',\n",
       "  'CDE',\n",
       "  'GFE'],\n",
       " 'Nawba_6': ['F#GA',\n",
       "  'GE',\n",
       "  'CDE',\n",
       "  'EDC',\n",
       "  'EF#G',\n",
       "  'BAG',\n",
       "  'DCAG',\n",
       "  'CAG',\n",
       "  'DECD',\n",
       "  'CBAG',\n",
       "  'CDE',\n",
       "  'EDC',\n",
       "  'AGF#E-DC',\n",
       "  'GF#E-D',\n",
       "  'FGA',\n",
       "  'CBCA',\n",
       "  'EFG',\n",
       "  'AGF',\n",
       "  'CDEF',\n",
       "  'GD',\n",
       "  'F#GA',\n",
       "  'BAG',\n",
       "  'EF#G',\n",
       "  'GABAGAG'],\n",
       " 'Nawba_7': ['EFG',\n",
       "  'FED',\n",
       "  'BCD',\n",
       "  'GAG',\n",
       "  'EFEFG',\n",
       "  'CBAG',\n",
       "  'GFE',\n",
       "  'CDE',\n",
       "  'EDC',\n",
       "  'EFDCDE',\n",
       "  'CDE',\n",
       "  'GFE',\n",
       "  'BCD',\n",
       "  'EFDE',\n",
       "  'FED',\n",
       "  'EDC',\n",
       "  'EFG',\n",
       "  'CDE',\n",
       "  'AGEFDE'],\n",
       " 'Nawba_8': ['CBAG',\n",
       "  'EF#G',\n",
       "  'CBAG',\n",
       "  'AGF#E-DC',\n",
       "  'FEDCB',\n",
       "  'F#GA',\n",
       "  'CED',\n",
       "  'BCD',\n",
       "  'AGF#E-D',\n",
       "  'AGF#E-D',\n",
       "  'DECD',\n",
       "  'EF#GAG',\n",
       "  'GF#ED',\n",
       "  'DCAG',\n",
       "  'CBAG',\n",
       "  'F#GBA',\n",
       "  'DF#',\n",
       "  'F#ED',\n",
       "  'AGF#ED',\n",
       "  'DBAD'],\n",
       " 'Nawba_9': ['EF#G',\n",
       "  'CDE',\n",
       "  'CBAG',\n",
       "  'AGF#E-D',\n",
       "  'DECD',\n",
       "  'FGA',\n",
       "  'AGF',\n",
       "  'CDF',\n",
       "  'FEDC',\n",
       "  'ABCA',\n",
       "  'BCD',\n",
       "  'FED'],\n",
       " 'Nawba_10': ['F#GA', 'GF#ED', 'FED', 'FEDC', 'GAGB', 'DEDCBABAG', 'EF#GAG'],\n",
       " 'Nawba_11': ['DEGE',\n",
       "  'EF#GAG',\n",
       "  'FEC',\n",
       "  'BCED',\n",
       "  'BAG',\n",
       "  'GDE',\n",
       "  'EFGFED',\n",
       "  'CBAG',\n",
       "  'GABCD',\n",
       "  'CBAG',\n",
       "  'GEDG',\n",
       "  'EFG',\n",
       "  'CBAG',\n",
       "  'GABC',\n",
       "  'FEDC',\n",
       "  'CED',\n",
       "  'BC',\n",
       "  'GAB',\n",
       "  'BCD',\n",
       "  'AGED',\n",
       "  'BAG',\n",
       "  'GABG',\n",
       "  'EDG']}"
      ]
     },
     "execution_count": 75,
     "metadata": {},
     "output_type": "execute_result"
    }
   ],
   "source": [
    "nawba_centones"
   ]
  },
  {
   "cell_type": "markdown",
   "metadata": {},
   "source": [
    "The computed data can be visualized in the next dataframe"
   ]
  },
  {
   "cell_type": "code",
   "execution_count": 74,
   "metadata": {
    "scrolled": false
   },
   "outputs": [
    {
     "data": {
      "text/html": [
       "<div>\n",
       "<style scoped>\n",
       "    .dataframe tbody tr th:only-of-type {\n",
       "        vertical-align: middle;\n",
       "    }\n",
       "\n",
       "    .dataframe tbody tr th {\n",
       "        vertical-align: top;\n",
       "    }\n",
       "\n",
       "    .dataframe thead th {\n",
       "        text-align: right;\n",
       "    }\n",
       "</style>\n",
       "<table border=\"1\" class=\"dataframe\">\n",
       "  <thead>\n",
       "    <tr style=\"text-align: right;\">\n",
       "      <th></th>\n",
       "      <th>Mbid</th>\n",
       "      <th>Annotated_tab</th>\n",
       "      <th>1 tab</th>\n",
       "    </tr>\n",
       "  </thead>\n",
       "  <tbody>\n",
       "    <tr>\n",
       "      <th>8</th>\n",
       "      <td>36822512-b1c8-42aa-9e55-fe9d10560371</td>\n",
       "      <td>Nawba_2</td>\n",
       "      <td>[Nawba_5, 107.9]</td>\n",
       "    </tr>\n",
       "    <tr>\n",
       "      <th>23</th>\n",
       "      <td>d2830817-7b06-4f98-bba5-daf8ae9f85be</td>\n",
       "      <td>Nawba_2</td>\n",
       "      <td>[Nawba_5, 49.5]</td>\n",
       "    </tr>\n",
       "    <tr>\n",
       "      <th>24</th>\n",
       "      <td>fb387964-4764-4900-91b5-f2ea7e10b786</td>\n",
       "      <td>Nawba_2</td>\n",
       "      <td>[Nawba_5, 119.8]</td>\n",
       "    </tr>\n",
       "    <tr>\n",
       "      <th>32</th>\n",
       "      <td>04b42450-8838-4a20-9e79-d42f03f8cc51</td>\n",
       "      <td>Nawba_2</td>\n",
       "      <td>[Nawba_7, 69.10526315789474]</td>\n",
       "    </tr>\n",
       "    <tr>\n",
       "      <th>44</th>\n",
       "      <td>ec5d2ba0-7c04-4d87-83b9-f82d363ca319</td>\n",
       "      <td>Nawba_2</td>\n",
       "      <td>[Nawba_5, 168.2]</td>\n",
       "    </tr>\n",
       "    <tr>\n",
       "      <th>56</th>\n",
       "      <td>59fcb1d1-61f4-4cdc-9f7f-56757bf2400e</td>\n",
       "      <td>Nawba_2</td>\n",
       "      <td>[Nawba_5, 140.8]</td>\n",
       "    </tr>\n",
       "    <tr>\n",
       "      <th>65</th>\n",
       "      <td>a0f4157f-faa1-4304-ac75-b612587fb221</td>\n",
       "      <td>Nawba_2</td>\n",
       "      <td>[Nawba_7, 46.0]</td>\n",
       "    </tr>\n",
       "    <tr>\n",
       "      <th>85</th>\n",
       "      <td>3bb348f5-417d-4646-9041-42b935c54c28</td>\n",
       "      <td>Nawba_2</td>\n",
       "      <td>[Nawba_5, 112.7]</td>\n",
       "    </tr>\n",
       "    <tr>\n",
       "      <th>98</th>\n",
       "      <td>aecf65c2-ef6a-4e7a-a123-24fbe757684e</td>\n",
       "      <td>Nawba_2</td>\n",
       "      <td>[Nawba_5, 142.4]</td>\n",
       "    </tr>\n",
       "    <tr>\n",
       "      <th>101</th>\n",
       "      <td>6aa540dc-e857-4115-9b90-a0480eb5316f</td>\n",
       "      <td>Nawba_2</td>\n",
       "      <td>[Nawba_5, 169.1]</td>\n",
       "    </tr>\n",
       "    <tr>\n",
       "      <th>104</th>\n",
       "      <td>263f2386-1081-4307-b686-1c99c2f31fa1</td>\n",
       "      <td>Nawba_2</td>\n",
       "      <td>[Nawba_7, 165.10526315789474]</td>\n",
       "    </tr>\n",
       "    <tr>\n",
       "      <th>111</th>\n",
       "      <td>9b194c42-f974-42f8-89b1-123bb07170b8</td>\n",
       "      <td>Nawba_2</td>\n",
       "      <td>[Nawba_5, 220.8]</td>\n",
       "    </tr>\n",
       "    <tr>\n",
       "      <th>125</th>\n",
       "      <td>689a2401-00b8-44f5-8107-76bfe75a36fe</td>\n",
       "      <td>Nawba_2</td>\n",
       "      <td>[Nawba_5, 202.6]</td>\n",
       "    </tr>\n",
       "  </tbody>\n",
       "</table>\n",
       "</div>"
      ],
      "text/plain": [
       "                                     Mbid Annotated_tab  \\\n",
       "8    36822512-b1c8-42aa-9e55-fe9d10560371       Nawba_2   \n",
       "23   d2830817-7b06-4f98-bba5-daf8ae9f85be       Nawba_2   \n",
       "24   fb387964-4764-4900-91b5-f2ea7e10b786       Nawba_2   \n",
       "32   04b42450-8838-4a20-9e79-d42f03f8cc51       Nawba_2   \n",
       "44   ec5d2ba0-7c04-4d87-83b9-f82d363ca319       Nawba_2   \n",
       "56   59fcb1d1-61f4-4cdc-9f7f-56757bf2400e       Nawba_2   \n",
       "65   a0f4157f-faa1-4304-ac75-b612587fb221       Nawba_2   \n",
       "85   3bb348f5-417d-4646-9041-42b935c54c28       Nawba_2   \n",
       "98   aecf65c2-ef6a-4e7a-a123-24fbe757684e       Nawba_2   \n",
       "101  6aa540dc-e857-4115-9b90-a0480eb5316f       Nawba_2   \n",
       "104  263f2386-1081-4307-b686-1c99c2f31fa1       Nawba_2   \n",
       "111  9b194c42-f974-42f8-89b1-123bb07170b8       Nawba_2   \n",
       "125  689a2401-00b8-44f5-8107-76bfe75a36fe       Nawba_2   \n",
       "\n",
       "                             1 tab  \n",
       "8                 [Nawba_5, 107.9]  \n",
       "23                 [Nawba_5, 49.5]  \n",
       "24                [Nawba_5, 119.8]  \n",
       "32    [Nawba_7, 69.10526315789474]  \n",
       "44                [Nawba_5, 168.2]  \n",
       "56                [Nawba_5, 140.8]  \n",
       "65                 [Nawba_7, 46.0]  \n",
       "85                [Nawba_5, 112.7]  \n",
       "98                [Nawba_5, 142.4]  \n",
       "101               [Nawba_5, 169.1]  \n",
       "104  [Nawba_7, 165.10526315789474]  \n",
       "111               [Nawba_5, 220.8]  \n",
       "125               [Nawba_5, 202.6]  "
      ]
     },
     "execution_count": 74,
     "metadata": {},
     "output_type": "execute_result"
    }
   ],
   "source": [
    "df_centones= pd.DataFrame(df)\n",
    "df_centones= df_centones[['Mbid','Annotated_tab','1 tab']]\n",
    "df_centones\n",
    "df_centones[df_centones['Annotated_tab'] == 'Nawba_2']\n",
    "#df_centones.to_pickle('nawba_results')"
   ]
  },
  {
   "cell_type": "markdown",
   "metadata": {},
   "source": [
    "The cell below review the computed datas in percentages"
   ]
  },
  {
   "cell_type": "code",
   "execution_count": 66,
   "metadata": {},
   "outputs": [
    {
     "name": "stdout",
     "output_type": "stream",
     "text": [
      "The tab with the most number of characteristics centones and the annotations matched in:  20.80536912751678 %\n"
     ]
    },
    {
     "data": {
      "image/png": "[encoded data removed]",
      "text/plain": [
       "<Figure size 432x288 with 1 Axes>"
      ]
     },
     "metadata": {
      "image/png": {
       "height": 249,
       "width": 368
      }
     },
     "output_type": "display_data"
    }
   ],
   "source": [
    "cont=0\n",
    "tab_work=[]\n",
    "for index, row in df_centones.iterrows():\n",
    "    if row['Annotated_tab']==row['1 tab'][0]:\n",
    "        tab_work.append(row['Annotated_tab'])\n",
    "        cont += 1\n",
    "print('The tab with the most number of characteristics centones and the annotations matched in: ',cont*100/(df_centones.shape[0]),'%')\n",
    "    \n",
    "values = Counter(tab_work).values()\n",
    "keys = Counter(tab_work).keys()\n",
    "plt.pie([v for v in values], labels=[k for k in keys],autopct='%.1f%%')\n",
    "plt.title('Data visualization of the matched tab with the annotations')\n",
    "plt.show()"
   ]
  },
  {
   "cell_type": "code",
   "execution_count": 73,
   "metadata": {},
   "outputs": [
    {
     "name": "stdout",
     "output_type": "stream",
     "text": [
      "Confusion matrix, without normalization\n"
     ]
    },
    {
     "data": {
      "image/png": "[encoded data removed]",
      "text/plain": [
       "<Figure size 432x288 with 2 Axes>"
      ]
     },
     "metadata": {
      "image/png": {
       "height": 311,
       "width": 361
      },
      "needs_background": "light"
     },
     "output_type": "display_data"
    }
   ],
   "source": [
    "def plot_confusion_matrix(y_true, y_pred,\n",
    "                          normalize=False,\n",
    "                          title=None,\n",
    "                          cmap=plt.cm.Blues):\n",
    "    \"\"\"\n",
    "    This function prints and plots the confusion matrix.\n",
    "    Normalization can be applied by setting `normalize=True`.\n",
    "    \"\"\"\n",
    "    if not title:\n",
    "        if normalize:\n",
    "            title = 'Normalized confusion matrix'\n",
    "        else:\n",
    "            title = 'Confusion matrix, without normalization'\n",
    "\n",
    "    # Compute confusion matrix\n",
    "    cm = confusion_matrix(y_true, y_pred)\n",
    "    # Only use the labels that appear in the data\n",
    "    classes = unique_labels(y_true, y_pred)\n",
    "    if normalize:\n",
    "        cm = cm.astype('float') / cm.sum(axis=1)[:, np.newaxis]\n",
    "        print(\"Normalized confusion matrix\")\n",
    "    else:\n",
    "        print('Confusion matrix, without normalization')\n",
    "\n",
    "    #print(cm)\n",
    "\n",
    "    fig, ax = plt.subplots()\n",
    "    im = ax.imshow(cm, interpolation='nearest', cmap=cmap)\n",
    "    ax.figure.colorbar(im, ax=ax)\n",
    "    # We want to show all ticks...\n",
    "    ax.set(xticks=np.arange(cm.shape[1]),\n",
    "           yticks=np.arange(cm.shape[0]),\n",
    "           # ... and label them with the respective list entries\n",
    "           xticklabels=classes, yticklabels=classes,\n",
    "           title=title,\n",
    "           ylabel='True label',\n",
    "           xlabel='Predicted label')\n",
    "\n",
    "    # Rotate the tick labels and set their alignment.\n",
    "    plt.setp(ax.get_xticklabels(), rotation=45, ha=\"right\",\n",
    "             rotation_mode=\"anchor\")\n",
    "\n",
    "    # Loop over data dimensions and create text annotations.\n",
    "    fmt = '.2f' if normalize else 'd'\n",
    "    thresh = cm.max() / 2.\n",
    "    for i in range(cm.shape[0]):\n",
    "        for j in range(cm.shape[1]):\n",
    "            ax.text(j, i, format(cm[i, j], fmt),\n",
    "                    ha=\"center\", va=\"center\",\n",
    "                    color=\"white\" if cm[i, j] > thresh else \"black\")\n",
    "    #fig.tight_layout()\n",
    "    return ax\n",
    "\n",
    "annotated = df_centones['Annotated_tab'].tolist()\n",
    "predicted = df_centones['1 tab'].tolist()\n",
    "predicted = [x[0] for x in predicted]\n",
    "\n",
    "np.set_printoptions(precision=2)\n",
    "\n",
    "\n",
    "plot_confusion_matrix(annotated, predicted,title='Confusion matrix, without normalization')\n",
    "\n",
    "# Plot normalized confusion matrix\n",
    "#plot_confusion_matrix(annotated, predicted, classes=classes, normalize=True,\n",
    "                      #title='Normalized confusion matrix')\n",
    "\n",
    "plt.show()"
   ]
  }
 ],
 "metadata": {
  "kernelspec": {
   "display_name": "Python 3",
   "language": "python",
   "name": "python3"
  },
  "language_info": {
   "codemirror_mode": {
    "name": "ipython",
    "version": 3
   },
   "file_extension": ".py",
   "mimetype": "text/x-python",
   "name": "python",
   "nbconvert_exporter": "python",
   "pygments_lexer": "ipython3",
   "version": "3.6.6"
  }
 },
 "nbformat": 4,
 "nbformat_minor": 2
}
